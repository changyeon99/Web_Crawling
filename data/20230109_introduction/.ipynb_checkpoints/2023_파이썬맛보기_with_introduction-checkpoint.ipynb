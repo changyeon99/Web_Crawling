{
 "cells": [
  {
   "cell_type": "markdown",
   "metadata": {
    "id": "U46dhc17H8Z9"
   },
   "source": [
    "2023년 1월 9일"
   ]
  },
  {
   "cell_type": "code",
   "execution_count": 1,
   "metadata": {
    "colab": {
     "base_uri": "https://localhost:8080/"
    },
    "id": "JoM334uMfBeR",
    "outputId": "8289ab98-7bb4-4dca-ae4d-a1c63376cf59"
   },
   "outputs": [
    {
     "name": "stdout",
     "output_type": "stream",
     "text": [
      "8\n"
     ]
    }
   ],
   "source": [
    "print(5 + 3)"
   ]
  },
  {
   "cell_type": "code",
   "execution_count": 2,
   "metadata": {
    "colab": {
     "base_uri": "https://localhost:8080/"
    },
    "id": "2CPxkCmnmjD2",
    "outputId": "94d7b745-22ee-4b86-c815-29e7f37d50c1"
   },
   "outputs": [
    {
     "name": "stdout",
     "output_type": "stream",
     "text": [
      "fdsfsdfds\n",
      "34343243\n"
     ]
    }
   ],
   "source": [
    "print(\"fdsfsdfds\")\n",
    "print(34343243)"
   ]
  },
  {
   "cell_type": "code",
   "execution_count": 3,
   "metadata": {
    "colab": {
     "base_uri": "https://localhost:8080/"
    },
    "id": "9l6k-0c3_yHn",
    "outputId": "87ac012f-2311-4aac-cc9f-850293467d04"
   },
   "outputs": [
    {
     "name": "stdout",
     "output_type": "stream",
     "text": [
      "1\n",
      "a\n",
      "7\n",
      "8\n",
      "-2\n",
      "15\n",
      "0.6\n"
     ]
    }
   ],
   "source": [
    "a = 1\n",
    "안재관 = 5\n",
    "number = 454336\n",
    "print(a)\n",
    "print(\"a\")\n",
    "a = 7\n",
    "print(a)\n",
    "# print(양용석)\n",
    "# print(number)\n",
    "\n",
    "a = 3\n",
    "b = 5\n",
    "print(a + b)\n",
    "print(a - b)\n",
    "print(a * b)\n",
    "print(a / b)"
   ]
  },
  {
   "cell_type": "code",
   "execution_count": 4,
   "metadata": {
    "colab": {
     "base_uri": "https://localhost:8080/"
    },
    "id": "bH0KfE3TAWcq",
    "outputId": "e305eb7f-48e4-4cb0-941a-6c730a391371",
    "scrolled": true
   },
   "outputs": [
    {
     "name": "stdout",
     "output_type": "stream",
     "text": [
      "3    5    ㅇㅇㅇㅇㅇ\n"
     ]
    }
   ],
   "source": [
    "print(a, b, \"ㅇㅇㅇㅇㅇ\", sep=\"    \")"
   ]
  },
  {
   "cell_type": "code",
   "execution_count": 2,
   "metadata": {
    "scrolled": true
   },
   "outputs": [
    {
     "ename": "SyntaxError",
     "evalue": "invalid syntax (<ipython-input-2-2536bfb227cd>, line 1)",
     "output_type": "error",
     "traceback": [
      "\u001b[1;36m  File \u001b[1;32m\"<ipython-input-2-2536bfb227cd>\"\u001b[1;36m, line \u001b[1;32m1\u001b[0m\n\u001b[1;33m    2023course = '개념 및 실습'\u001b[0m\n\u001b[1;37m        ^\u001b[0m\n\u001b[1;31mSyntaxError\u001b[0m\u001b[1;31m:\u001b[0m invalid syntax\n"
     ]
    }
   ],
   "source": [
    "2023course = '개념 및 실습'"
   ]
  },
  {
   "cell_type": "code",
   "execution_count": 3,
   "metadata": {
    "scrolled": true
   },
   "outputs": [
    {
     "data": {
      "text/plain": [
       "'개념 및 실습'"
      ]
     },
     "execution_count": 3,
     "metadata": {},
     "output_type": "execute_result"
    }
   ],
   "source": [
    "course_2023 = '개념 및 실습'\n",
    "course_2023"
   ]
  },
  {
   "cell_type": "code",
   "execution_count": 7,
   "metadata": {},
   "outputs": [
    {
     "name": "stdout",
     "output_type": "stream",
     "text": [
      "저는 5 층에 살아요\n",
      "차는 지하 3 층에 있어요\n",
      "꼭대기층은 15 층에 살아요\n",
      "<class 'str'>\n",
      "꼭대기층은 555 층에 살아요\n"
     ]
    }
   ],
   "source": [
    "a=3\n",
    "b=5\n",
    "print(\"저는\", b, \"층에 살아요\")\n",
    "print(\"차는 지하\", a, \"층에 있어요\")\n",
    "print(\"꼭대기층은\", a*b, \"층에 살아요\")\n",
    "\n",
    "b=str(b)\n",
    "print(type(b))\n",
    "print(\"꼭대기층은\", a*b, \"층에 살아요\")\n"
   ]
  },
  {
   "cell_type": "code",
   "execution_count": 10,
   "metadata": {
    "colab": {
     "base_uri": "https://localhost:8080/",
     "height": 208
    },
    "id": "jUn2hHu6QIoK",
    "outputId": "ab187442-84d8-4c32-b8ec-ba8c728d5a85"
   },
   "outputs": [
    {
     "ename": "ValueError",
     "evalue": "invalid literal for int() with base 10: '37살'",
     "output_type": "error",
     "traceback": [
      "\u001b[1;31m---------------------------------------------------------------------------\u001b[0m",
      "\u001b[1;31mValueError\u001b[0m                                Traceback (most recent call last)",
      "\u001b[1;32m<ipython-input-10-4065f0322694>\u001b[0m in \u001b[0;36m<module>\u001b[1;34m\u001b[0m\n\u001b[0;32m      1\u001b[0m \u001b[0maaa\u001b[0m \u001b[1;33m=\u001b[0m \u001b[1;34m\"37살\"\u001b[0m\u001b[1;33m\u001b[0m\u001b[1;33m\u001b[0m\u001b[0m\n\u001b[1;32m----> 2\u001b[1;33m \u001b[0mbbb\u001b[0m \u001b[1;33m=\u001b[0m \u001b[0mint\u001b[0m\u001b[1;33m(\u001b[0m\u001b[0maaa\u001b[0m\u001b[1;33m)\u001b[0m \u001b[1;33m-\u001b[0m \u001b[1;36m4\u001b[0m\u001b[1;33m\u001b[0m\u001b[1;33m\u001b[0m\u001b[0m\n\u001b[0m\u001b[0;32m      3\u001b[0m \u001b[0mprint\u001b[0m\u001b[1;33m(\u001b[0m\u001b[0mbbb\u001b[0m\u001b[1;33m)\u001b[0m\u001b[1;33m\u001b[0m\u001b[1;33m\u001b[0m\u001b[0m\n",
      "\u001b[1;31mValueError\u001b[0m: invalid literal for int() with base 10: '37살'"
     ]
    }
   ],
   "source": [
    "aaa = \"37살\"\n",
    "bbb = int(aaa) - 4\n",
    "print(bbb)"
   ]
  },
  {
   "cell_type": "code",
   "execution_count": 9,
   "metadata": {
    "colab": {
     "base_uri": "https://localhost:8080/"
    },
    "id": "WitrTvSpMH-t",
    "outputId": "65c2252b-7478-4cb9-e38d-92793f096b44"
   },
   "outputs": [
    {
     "name": "stdout",
     "output_type": "stream",
     "text": [
      "7\n",
      "2\n",
      "당신의 이름은 7 입니다. 당신은 2 살입니다.\n",
      "동생의 나이는 -2 입니다.\n"
     ]
    }
   ],
   "source": [
    "# name = input(\"이름 알려주셈 :\")\n",
    "# age = input(\"how old are you?\")\n",
    "name = input()\n",
    "age = input()\n",
    "print(\"당신의 이름은\", name, \"입니다. 당신은\", age, \"살입니다.\")\n",
    "\n",
    "# sisterAge = age - 4\n",
    "sisterAge = int(age) - 4\n",
    "print(\"동생의 나이는\", sisterAge, \"입니다.\")"
   ]
  },
  {
   "cell_type": "code",
   "execution_count": 8,
   "metadata": {
    "colab": {
     "base_uri": "https://localhost:8080/"
    },
    "id": "StK6fEIYNQqh",
    "outputId": "28222620-3fcf-4c53-c336-e69e32332eab"
   },
   "outputs": [
    {
     "name": "stdout",
     "output_type": "stream",
     "text": [
      "섭씨온도?37\n",
      "98.60000000000001\n"
     ]
    }
   ],
   "source": [
    "# input으로 섭씨 온도 받기(저장)\n",
    "섭씨 = input(\"섭씨온도?\")\n",
    "# int로 문자->숫자\n",
    "섭씨 = float(섭씨)\n",
    "숫자화된섭씨 = int(섭씨)\n",
    "# 공식 써서 섭씨->화씨\n",
    "화씨 = 섭씨 * 1.8 + 32\n",
    "# 화씨 출력\n",
    "print(화씨)"
   ]
  },
  {
   "cell_type": "code",
   "execution_count": 13,
   "metadata": {
    "colab": {
     "base_uri": "https://localhost:8080/",
     "height": 298
    },
    "id": "pKx4GhY0bqkr",
    "outputId": "2bea16ab-ab0a-49b0-f215-9ff4432b4a02"
   },
   "outputs": [
    {
     "name": "stdout",
     "output_type": "stream",
     "text": [
      "i\n",
      "i\n",
      "n\n",
      "r\n",
      "i am h\n"
     ]
    },
    {
     "ename": "IndexError",
     "evalue": "string index out of range",
     "output_type": "error",
     "traceback": [
      "\u001b[1;31m---------------------------------------------------------------------------\u001b[0m",
      "\u001b[1;31mIndexError\u001b[0m                                Traceback (most recent call last)",
      "\u001b[1;32m<ipython-input-13-fd7abdc6fd28>\u001b[0m in \u001b[0;36m<module>\u001b[1;34m\u001b[0m\n\u001b[0;32m      6\u001b[0m \u001b[1;31m# print(ssss[시작인덱스:끝인덱스(미포함)])\u001b[0m\u001b[1;33m\u001b[0m\u001b[1;33m\u001b[0m\u001b[1;33m\u001b[0m\u001b[0m\n\u001b[0;32m      7\u001b[0m \u001b[0mprint\u001b[0m\u001b[1;33m(\u001b[0m\u001b[0mssss\u001b[0m\u001b[1;33m[\u001b[0m\u001b[1;36m0\u001b[0m\u001b[1;33m:\u001b[0m\u001b[1;36m6\u001b[0m\u001b[1;33m]\u001b[0m\u001b[1;33m)\u001b[0m\u001b[1;33m\u001b[0m\u001b[1;33m\u001b[0m\u001b[0m\n\u001b[1;32m----> 8\u001b[1;33m \u001b[0mprint\u001b[0m\u001b[1;33m(\u001b[0m\u001b[0mssss\u001b[0m\u001b[1;33m[\u001b[0m\u001b[1;36m11\u001b[0m\u001b[1;33m]\u001b[0m\u001b[1;33m)\u001b[0m\u001b[1;33m\u001b[0m\u001b[1;33m\u001b[0m\u001b[0m\n\u001b[0m",
      "\u001b[1;31mIndexError\u001b[0m: string index out of range"
     ]
    }
   ],
   "source": [
    "ssss = \"i am hungry\"\n",
    "print(ssss[0])\n",
    "print(ssss[-11])\n",
    "print(ssss[7])\n",
    "print(ssss[-2])\n",
    "# print(ssss[시작인덱스:끝인덱스(미포함)])\n",
    "print(ssss[0:6])\n",
    "print(ssss[11])"
   ]
  },
  {
   "cell_type": "code",
   "execution_count": 14,
   "metadata": {
    "colab": {
     "base_uri": "https://localhost:8080/"
    },
    "id": "ZQ2rARzxcaIz",
    "outputId": "80b4008d-6016-4e13-cc30-3a1d04ec44c4"
   },
   "outputs": [
    {
     "name": "stdout",
     "output_type": "stream",
     "text": [
      "i am hungry\n",
      "i am hungry\n",
      "i am angry\n",
      "i am angry\n",
      "i ddddm ddddngry\n"
     ]
    }
   ],
   "source": [
    "ss = \"i am hungry\"\n",
    "print(ss)\n",
    "ss.replace(\"hu\", \"a\")\n",
    "print(ss)\n",
    "ss = ss.replace(\"hu\", \"a\")\n",
    "print(ss)\n",
    "ss = ss.replace(\"이건없지\", \"dddd\")\n",
    "print(ss)\n",
    "ss = ss.replace(\"a\", \"dddd\")\n",
    "print(ss)"
   ]
  },
  {
   "cell_type": "code",
   "execution_count": 15,
   "metadata": {
    "colab": {
     "base_uri": "https://localhost:8080/"
    },
    "id": "pG7uSsFUedtC",
    "outputId": "c4282e0b-4e54-4da6-e856-f8f2bb35968f"
   },
   "outputs": [
    {
     "name": "stdout",
     "output_type": "stream",
     "text": [
      "      앞뒤공백     \n",
      "      앞뒤공백     \n"
     ]
    }
   ],
   "source": [
    "str4 = \"      앞뒤공백     \"\n",
    "print(str4)\n",
    "str4.strip()   #str4 미변경\n",
    "# str4 = str4.strip() #덮어쓰기\n",
    "print(str4)"
   ]
  },
  {
   "cell_type": "code",
   "execution_count": 16,
   "metadata": {
    "colab": {
     "base_uri": "https://localhost:8080/"
    },
    "id": "XvT0Hg_2fJQp",
    "outputId": "5746a1ab-a275-4841-b505-393eeb910574"
   },
   "outputs": [
    {
     "name": "stdout",
     "output_type": "stream",
     "text": [
      "\n",
      "오늘\n",
      "점심은\n",
      "뭐먹을까\n",
      "우리\n",
      "에 빨리 가자, \n",
      " 좋아\n"
     ]
    }
   ],
   "source": [
    "s5 = \"#오늘#점심은#뭐먹을까\"\n",
    "split = s5.split(\"#\")\n",
    "print(split[0])\n",
    "print(split[1])\n",
    "print(split[2])\n",
    "print(split[3])\n",
    "# print(split[4])\n",
    "\n",
    "s6 = \"우리집에 빨리 가자, 집 좋아\"\n",
    "split = s6.split(\"집\")\n",
    "print(split[0])\n",
    "print(split[1])\n",
    "print(split[2])"
   ]
  },
  {
   "cell_type": "code",
   "execution_count": 17,
   "metadata": {
    "id": "LcdGlu8vgCiB"
   },
   "outputs": [],
   "source": [
    "diyString = \"처음에 글이 있고 중간에는 공백이 길고, 끝부분에는 공백이 짧아요 \""
   ]
  },
  {
   "cell_type": "markdown",
   "metadata": {
    "id": "6kncyO4wOVz4"
   },
   "source": [
    "2021년 1월 12일"
   ]
  }
 ],
 "metadata": {
  "colab": {
   "collapsed_sections": [],
   "name": "2021 현장프로젝트 교과.ipynb",
   "provenance": []
  },
  "kernelspec": {
   "display_name": "crowlling_kernel",
   "language": "python",
   "name": "crowlling"
  },
  "language_info": {
   "codemirror_mode": {
    "name": "ipython",
    "version": 3
   },
   "file_extension": ".py",
   "mimetype": "text/x-python",
   "name": "python",
   "nbconvert_exporter": "python",
   "pygments_lexer": "ipython3",
   "version": "3.9.15"
  },
  "vscode": {
   "interpreter": {
    "hash": "9763dd0ed3a4f283c47374415cc41ac8d1410df54108749c2d8eca3c3e32033c"
   }
  }
 },
 "nbformat": 4,
 "nbformat_minor": 1
}
