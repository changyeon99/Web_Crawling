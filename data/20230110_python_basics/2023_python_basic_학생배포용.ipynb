{
 "cells": [
  {
   "cell_type": "markdown",
   "id": "87433619",
   "metadata": {},
   "source": [
    "# 파이썬 개요 실습_Basics"
   ]
  },
  {
   "cell_type": "markdown",
   "id": "84b88111",
   "metadata": {},
   "source": [
    "## Indent, a brace"
   ]
  },
  {
   "cell_type": "code",
   "execution_count": 1,
   "id": "a0f96548",
   "metadata": {},
   "outputs": [
    {
     "name": "stdout",
     "output_type": "stream",
     "text": [
      "1\n",
      "2\n"
     ]
    }
   ],
   "source": [
    "def test():\n",
    "    print(1)\n",
    "    print(2)\n",
    "    \n",
    "test()"
   ]
  },
  {
   "cell_type": "code",
   "execution_count": 2,
   "id": "09822339",
   "metadata": {},
   "outputs": [
    {
     "name": "stdout",
     "output_type": "stream",
     "text": [
      "a:  <class 'int'>\n",
      "b:  <class 'str'>\n",
      "c:  <class 'str'>\n"
     ]
    }
   ],
   "source": [
    "a = 1\n",
    "b = \"abc\"\n",
    "c = \"a\"\n",
    "\n",
    "print(\"a: \",type(a))\n",
    "print(\"b: \",type(b))\n",
    "print(\"c: \",type(c))"
   ]
  },
  {
   "cell_type": "markdown",
   "id": "bac34fb7",
   "metadata": {},
   "source": [
    "## 자료형 "
   ]
  },
  {
   "cell_type": "markdown",
   "id": "287fb5c9",
   "metadata": {},
   "source": [
    "### 수치형"
   ]
  },
  {
   "cell_type": "code",
   "execution_count": 3,
   "id": "12e7ea33",
   "metadata": {},
   "outputs": [
    {
     "name": "stdout",
     "output_type": "stream",
     "text": [
      "<class 'int'> 5\n",
      "<class 'float'> 5.0\n",
      "<class 'float'> 5.23\n",
      "<class 'float'> 523.0\n",
      "<class 'float'> 0.0523\n",
      "<class 'complex'> 5j\n"
     ]
    }
   ],
   "source": [
    "example = 5\n",
    "print(type(example), example)\n",
    "\n",
    "example = 5.\n",
    "print(type(example), example)\n",
    "\n",
    "example = 5.23\n",
    "print(type(example), example)\n",
    "\n",
    "example = 5.23e2\n",
    "print(type(example), example)\n",
    "\n",
    "example = 5.23e-2\n",
    "print(type(example), example)\n",
    "\n",
    "example = 5j\n",
    "print(type(example), example)"
   ]
  },
  {
   "cell_type": "code",
   "execution_count": 4,
   "id": "10ea4039",
   "metadata": {
    "scrolled": true
   },
   "outputs": [
    {
     "name": "stdout",
     "output_type": "stream",
     "text": [
      "35\n",
      "33.9\n",
      "9000\n",
      "0.5\n",
      "0\n",
      "3.0\n",
      "2\n"
     ]
    }
   ],
   "source": [
    "print(34 + 1)\n",
    "print(34.0 - 0.1)\n",
    "print(300 * 30)\n",
    "print(1 / 2)\n",
    "print(2 // 3)\n",
    "print(9 ** 0.5)\n",
    "print(20 % 3)"
   ]
  },
  {
   "cell_type": "code",
   "execution_count": 5,
   "id": "5ec9966f",
   "metadata": {
    "scrolled": true
   },
   "outputs": [
    {
     "name": "stdout",
     "output_type": "stream",
     "text": [
      "1\n",
      "-1\n",
      "5\n",
      "5.0\n",
      "1.3\n",
      "3\n",
      "<class 'str'>\n",
      "-1300.0\n",
      "1\n",
      "-2\n",
      "1.4\n"
     ]
    }
   ],
   "source": [
    "print(int(1.3))\n",
    "print(int(-1.7))\n",
    "print(int(\"5\"))\n",
    "\n",
    "print(float(5))\n",
    "print(float(\"1.3\"))\n",
    "\n",
    "print(str(3))\n",
    "print(type(str(3)))\n",
    "print(str(-1.3e3))\n",
    "\n",
    "print(round(1.3))\n",
    "print(round(-1.7))\n",
    "print(round(1.37, 1))\n"
   ]
  },
  {
   "cell_type": "markdown",
   "id": "1f35a9b6",
   "metadata": {},
   "source": [
    "#### TypeError: 'str' object is not callable\n",
    "#### 에러가 나오면 위에서 'str=~' 이라고 변수 이름을 선언한 경우 오류가 발생한다. "
   ]
  },
  {
   "cell_type": "markdown",
   "id": "291b3e10",
   "metadata": {},
   "source": [
    "### 문자형"
   ]
  },
  {
   "cell_type": "code",
   "execution_count": 6,
   "id": "d0c5ac95",
   "metadata": {},
   "outputs": [
    {
     "name": "stdout",
     "output_type": "stream",
     "text": [
      "I ate 3 apples. So I was sick for five days.\n",
      "I ate 3 apples.\n",
      "So I was sick for five days.\n",
      "I ate 3 apples.\tSo I was sick for five days.\n",
      "He said, \"I ate 3 apples. So I was sick for five days\"\n"
     ]
    }
   ],
   "source": [
    "sentence = \"I ate 3 apples. So I was sick for five days.\"\n",
    "print(sentence)\n",
    "\n",
    "sentence = \"I ate 3 apples.\\nSo I was sick for five days.\"\n",
    "print(sentence)\n",
    "\n",
    "sentence = \"I ate 3 apples.\\tSo I was sick for five days.\"\n",
    "print(sentence)\n",
    "\n",
    "sentence = \"He said, \\\"I ate 3 apples. So I was sick for five days\\\"\"\n",
    "print(sentence)\n"
   ]
  },
  {
   "cell_type": "code",
   "execution_count": 7,
   "id": "190b6601",
   "metadata": {},
   "outputs": [
    {
     "name": "stdout",
     "output_type": "stream",
     "text": [
      "I ate 3 apples. So I was sick for five days.\n",
      "I ate 3 apples. So I was sick for five days\n",
      "I ate 3.0 apples. So I was sick for five days\n",
      "\n",
      "I ate 3 apples.\n",
      "So I was sick for five days.\n"
     ]
    }
   ],
   "source": [
    "number = 3\n",
    "day = \"five\"\n",
    "\n",
    "sentence = \"I ate %d apples. So I was sick for %s days.\" % (number, day)\n",
    "print(sentence)\n",
    "\n",
    "sentence = \"I ate {} apples. So I was sick for {} days\".format(number, day)\n",
    "print(sentence)\n",
    "\n",
    "sentence = \"I ate %.1f apples. So I was sick for %s days\" % (number, day)\n",
    "print(sentence)\n",
    "\n",
    "sentence = \"\\nI ate %d apples.\\nSo I was sick for %s days.\" % (number, day)\n",
    "print(sentence)"
   ]
  },
  {
   "cell_type": "code",
   "execution_count": 8,
   "id": "543ce0da",
   "metadata": {},
   "outputs": [],
   "source": [
    "dma = \"Data Management\""
   ]
  },
  {
   "cell_type": "code",
   "execution_count": 9,
   "id": "be2e222a",
   "metadata": {},
   "outputs": [
    {
     "data": {
      "text/plain": [
       "'Data Management and Analysis'"
      ]
     },
     "execution_count": 9,
     "metadata": {},
     "output_type": "execute_result"
    }
   ],
   "source": [
    "dma += \" and Analysis\"\n",
    "dma"
   ]
  },
  {
   "cell_type": "code",
   "execution_count": 10,
   "id": "6135d761",
   "metadata": {},
   "outputs": [
    {
     "data": {
      "text/plain": [
       "'Data Management and AnalysisData Management and AnalysisData Management and AnalysisData Management and AnalysisData Management and AnalysisData Management and Analysis'"
      ]
     },
     "execution_count": 10,
     "metadata": {},
     "output_type": "execute_result"
    }
   ],
   "source": [
    "dma*6"
   ]
  },
  {
   "cell_type": "code",
   "execution_count": 11,
   "id": "f0df1ac7",
   "metadata": {},
   "outputs": [
    {
     "data": {
      "text/plain": [
       "'Dat'"
      ]
     },
     "execution_count": 11,
     "metadata": {},
     "output_type": "execute_result"
    }
   ],
   "source": [
    "dma[0:3]"
   ]
  },
  {
   "cell_type": "code",
   "execution_count": 12,
   "id": "a755654e",
   "metadata": {},
   "outputs": [
    {
     "data": {
      "text/plain": [
       "'Data Management and Analy'"
      ]
     },
     "execution_count": 12,
     "metadata": {},
     "output_type": "execute_result"
    }
   ],
   "source": [
    "dma[:-3]"
   ]
  },
  {
   "cell_type": "code",
   "execution_count": 13,
   "id": "394b1514",
   "metadata": {
    "scrolled": true
   },
   "outputs": [
    {
     "ename": "TypeError",
     "evalue": "'str' object does not support item assignment",
     "output_type": "error",
     "traceback": [
      "\u001b[1;31m---------------------------------------------------------------------------\u001b[0m",
      "\u001b[1;31mTypeError\u001b[0m                                 Traceback (most recent call last)",
      "Cell \u001b[1;32mIn[13], line 1\u001b[0m\n\u001b[1;32m----> 1\u001b[0m \u001b[43mdma\u001b[49m\u001b[43m[\u001b[49m\u001b[38;5;241;43m3\u001b[39;49m\u001b[43m]\u001b[49m \u001b[38;5;241m=\u001b[39m \u001b[38;5;124m'\u001b[39m\u001b[38;5;124md\u001b[39m\u001b[38;5;124m'\u001b[39m\n\u001b[0;32m      2\u001b[0m dma\n",
      "\u001b[1;31mTypeError\u001b[0m: 'str' object does not support item assignment"
     ]
    }
   ],
   "source": [
    "dma[3] = 'd'\n",
    "dma"
   ]
  },
  {
   "cell_type": "code",
   "execution_count": 128,
   "id": "46eacaea",
   "metadata": {},
   "outputs": [
    {
     "data": {
      "text/plain": [
       "6"
      ]
     },
     "execution_count": 128,
     "metadata": {},
     "output_type": "execute_result"
    }
   ],
   "source": [
    "dma.count(\"a\")"
   ]
  },
  {
   "cell_type": "code",
   "execution_count": 129,
   "id": "74336c0e",
   "metadata": {},
   "outputs": [
    {
     "data": {
      "text/plain": [
       "1"
      ]
     },
     "execution_count": 129,
     "metadata": {},
     "output_type": "execute_result"
    }
   ],
   "source": [
    "dma.find(\"a\")"
   ]
  },
  {
   "cell_type": "code",
   "execution_count": 130,
   "id": "eb906df3",
   "metadata": {},
   "outputs": [
    {
     "ename": "AttributeError",
     "evalue": "'str' object has no attribute 'find_all'",
     "output_type": "error",
     "traceback": [
      "\u001b[1;31m---------------------------------------------------------------------------\u001b[0m",
      "\u001b[1;31mAttributeError\u001b[0m                            Traceback (most recent call last)",
      "Cell \u001b[1;32mIn[130], line 1\u001b[0m\n\u001b[1;32m----> 1\u001b[0m \u001b[43mdma\u001b[49m\u001b[38;5;241;43m.\u001b[39;49m\u001b[43mfind_all\u001b[49m(\u001b[38;5;124m\"\u001b[39m\u001b[38;5;124ma\u001b[39m\u001b[38;5;124m\"\u001b[39m)\n",
      "\u001b[1;31mAttributeError\u001b[0m: 'str' object has no attribute 'find_all'"
     ]
    }
   ],
   "source": [
    "dma.find_all(\"a\")"
   ]
  },
  {
   "cell_type": "code",
   "execution_count": 131,
   "id": "1164b870",
   "metadata": {},
   "outputs": [
    {
     "data": {
      "text/plain": [
       "[1, 3, 6, 8, 16, 22]"
      ]
     },
     "execution_count": 131,
     "metadata": {},
     "output_type": "execute_result"
    }
   ],
   "source": [
    "# 참고용\n",
    "import re\n",
    "\n",
    "[m.start() for m in re.finditer('a', dma)]"
   ]
  },
  {
   "cell_type": "code",
   "execution_count": 132,
   "id": "ec0d7a15",
   "metadata": {},
   "outputs": [
    {
     "data": {
      "text/plain": [
       "'DATA MANAGEMENT AND ANALYSIS'"
      ]
     },
     "execution_count": 132,
     "metadata": {},
     "output_type": "execute_result"
    }
   ],
   "source": [
    "dma.upper()"
   ]
  },
  {
   "cell_type": "code",
   "execution_count": 18,
   "id": "3953e0b8",
   "metadata": {},
   "outputs": [
    {
     "data": {
      "text/plain": [
       "'data management and analysis'"
      ]
     },
     "execution_count": 18,
     "metadata": {},
     "output_type": "execute_result"
    }
   ],
   "source": [
    "dma.lower()"
   ]
  },
  {
   "cell_type": "code",
   "execution_count": 19,
   "id": "70e1487b",
   "metadata": {},
   "outputs": [
    {
     "data": {
      "text/plain": [
       "'Life Management and Analysis'"
      ]
     },
     "execution_count": 19,
     "metadata": {},
     "output_type": "execute_result"
    }
   ],
   "source": [
    "dma.replace(\"Data\", \"Life\")"
   ]
  },
  {
   "cell_type": "code",
   "execution_count": 20,
   "id": "019bd1bd",
   "metadata": {},
   "outputs": [
    {
     "data": {
      "text/plain": [
       "['Data', 'Management', 'and', 'Analysis']"
      ]
     },
     "execution_count": 20,
     "metadata": {},
     "output_type": "execute_result"
    }
   ],
   "source": [
    "dma.split()"
   ]
  },
  {
   "cell_type": "code",
   "execution_count": 21,
   "id": "05217d9b",
   "metadata": {},
   "outputs": [
    {
     "data": {
      "text/plain": [
       "['D', 't', ' M', 'n', 'gement ', 'nd An', 'lysis']"
      ]
     },
     "execution_count": 21,
     "metadata": {},
     "output_type": "execute_result"
    }
   ],
   "source": [
    "dma.split(\"a\")"
   ]
  },
  {
   "cell_type": "code",
   "execution_count": 22,
   "id": "7a663bf8",
   "metadata": {},
   "outputs": [
    {
     "data": {
      "text/plain": [
       "','"
      ]
     },
     "execution_count": 22,
     "metadata": {},
     "output_type": "execute_result"
    }
   ],
   "source": [
    "dma.join(\",\")"
   ]
  },
  {
   "cell_type": "code",
   "execution_count": 23,
   "id": "4cbb4ff1",
   "metadata": {
    "scrolled": true
   },
   "outputs": [
    {
     "data": {
      "text/plain": [
       "'D,a,t,a, ,M,a,n,a,g,e,m,e,n,t, ,a,n,d, ,A,n,a,l,y,s,i,s'"
      ]
     },
     "execution_count": 23,
     "metadata": {},
     "output_type": "execute_result"
    }
   ],
   "source": [
    "(\",\").join(dma)"
   ]
  },
  {
   "cell_type": "markdown",
   "id": "2ffaf3c6",
   "metadata": {},
   "source": [
    "### 리스트"
   ]
  },
  {
   "cell_type": "code",
   "execution_count": 24,
   "id": "8fa74571",
   "metadata": {},
   "outputs": [
    {
     "name": "stdout",
     "output_type": "stream",
     "text": [
      "[1, 2, 'list']\n",
      "[[1, 2], 'list']\n"
     ]
    }
   ],
   "source": [
    "list1 = []\n",
    "\n",
    "list2 = [1, 2, \"list\"]\n",
    "\n",
    "list3 = [[1,2], \"list\"]\n",
    "\n",
    "print(list2)\n",
    "print(list3)"
   ]
  },
  {
   "cell_type": "code",
   "execution_count": 25,
   "id": "7478b02c",
   "metadata": {},
   "outputs": [
    {
     "name": "stdout",
     "output_type": "stream",
     "text": [
      "[1, 2, 3, 4, 5, 6]\n"
     ]
    }
   ],
   "source": [
    "a = [1,2,3]\n",
    "b = [4,5,6]\n",
    "\n",
    "print(a+b)"
   ]
  },
  {
   "cell_type": "code",
   "execution_count": 26,
   "id": "8f8c422a",
   "metadata": {},
   "outputs": [
    {
     "data": {
      "text/plain": [
       "[1, 2, 3]"
      ]
     },
     "execution_count": 26,
     "metadata": {},
     "output_type": "execute_result"
    }
   ],
   "source": [
    "a[0:5]"
   ]
  },
  {
   "cell_type": "code",
   "execution_count": 27,
   "id": "ed285147",
   "metadata": {},
   "outputs": [
    {
     "data": {
      "text/plain": [
       "3"
      ]
     },
     "execution_count": 27,
     "metadata": {},
     "output_type": "execute_result"
    }
   ],
   "source": [
    "len(a)"
   ]
  },
  {
   "cell_type": "code",
   "execution_count": 28,
   "id": "7fc7a853",
   "metadata": {},
   "outputs": [
    {
     "data": {
      "text/plain": [
       "10"
      ]
     },
     "execution_count": 28,
     "metadata": {},
     "output_type": "execute_result"
    }
   ],
   "source": [
    "c = [1, 2, 3, 4]\n",
    "\n",
    "sum(c)"
   ]
  },
  {
   "cell_type": "code",
   "execution_count": 29,
   "id": "0480b9d2",
   "metadata": {},
   "outputs": [
    {
     "data": {
      "text/plain": [
       "1"
      ]
     },
     "execution_count": 29,
     "metadata": {},
     "output_type": "execute_result"
    }
   ],
   "source": [
    "min(c)"
   ]
  },
  {
   "cell_type": "code",
   "execution_count": 30,
   "id": "bd75338b",
   "metadata": {},
   "outputs": [
    {
     "data": {
      "text/plain": [
       "4"
      ]
     },
     "execution_count": 30,
     "metadata": {},
     "output_type": "execute_result"
    }
   ],
   "source": [
    "max(c)"
   ]
  },
  {
   "cell_type": "code",
   "execution_count": 31,
   "id": "0aed066a",
   "metadata": {},
   "outputs": [
    {
     "ename": "TypeError",
     "evalue": "unsupported operand type(s) for +: 'int' and 'str'",
     "output_type": "error",
     "traceback": [
      "\u001b[1;31m---------------------------------------------------------------------------\u001b[0m",
      "\u001b[1;31mTypeError\u001b[0m                                 Traceback (most recent call last)",
      "Cell \u001b[1;32mIn[31], line 3\u001b[0m\n\u001b[0;32m      1\u001b[0m d \u001b[38;5;241m=\u001b[39m [\u001b[38;5;124m\"\u001b[39m\u001b[38;5;124ma\u001b[39m\u001b[38;5;124m\"\u001b[39m, \u001b[38;5;124m\"\u001b[39m\u001b[38;5;124mb\u001b[39m\u001b[38;5;124m\"\u001b[39m, \u001b[38;5;124m\"\u001b[39m\u001b[38;5;124mc\u001b[39m\u001b[38;5;124m\"\u001b[39m, \u001b[38;5;124m\"\u001b[39m\u001b[38;5;124mA\u001b[39m\u001b[38;5;124m\"\u001b[39m]\n\u001b[1;32m----> 3\u001b[0m \u001b[38;5;28;43msum\u001b[39;49m\u001b[43m(\u001b[49m\u001b[43md\u001b[49m\u001b[43m)\u001b[49m\n",
      "\u001b[1;31mTypeError\u001b[0m: unsupported operand type(s) for +: 'int' and 'str'"
     ]
    }
   ],
   "source": [
    "d = [\"a\", \"b\", \"c\", \"A\"]\n",
    "\n",
    "sum(d)"
   ]
  },
  {
   "cell_type": "code",
   "execution_count": 32,
   "id": "6053eaea",
   "metadata": {},
   "outputs": [
    {
     "data": {
      "text/plain": [
       "'A'"
      ]
     },
     "execution_count": 32,
     "metadata": {},
     "output_type": "execute_result"
    }
   ],
   "source": [
    "min(d)"
   ]
  },
  {
   "cell_type": "code",
   "execution_count": 33,
   "id": "83238b86",
   "metadata": {},
   "outputs": [
    {
     "data": {
      "text/plain": [
       "'c'"
      ]
     },
     "execution_count": 33,
     "metadata": {},
     "output_type": "execute_result"
    }
   ],
   "source": [
    "max(d)"
   ]
  },
  {
   "cell_type": "code",
   "execution_count": 34,
   "id": "79e685e6",
   "metadata": {},
   "outputs": [],
   "source": [
    "a = [1,2,3]"
   ]
  },
  {
   "cell_type": "code",
   "execution_count": 35,
   "id": "b8528ca5",
   "metadata": {},
   "outputs": [
    {
     "data": {
      "text/plain": [
       "[1, 2, 3, [4, 5, 6]]"
      ]
     },
     "execution_count": 35,
     "metadata": {},
     "output_type": "execute_result"
    }
   ],
   "source": [
    "a.append([4,5,6])\n",
    "a"
   ]
  },
  {
   "cell_type": "code",
   "execution_count": 36,
   "id": "dfb27991",
   "metadata": {},
   "outputs": [
    {
     "data": {
      "text/plain": [
       "[0, 1, 2, 3, [4, 5, 6]]"
      ]
     },
     "execution_count": 36,
     "metadata": {},
     "output_type": "execute_result"
    }
   ],
   "source": [
    "a.insert(0, 0)\n",
    "a"
   ]
  },
  {
   "cell_type": "code",
   "execution_count": 37,
   "id": "c6caf550",
   "metadata": {},
   "outputs": [
    {
     "data": {
      "text/plain": [
       "[0, 1, 2, 3, [4, 5, 6], 4, 5, 6]"
      ]
     },
     "execution_count": 37,
     "metadata": {},
     "output_type": "execute_result"
    }
   ],
   "source": [
    "a.extend([4,5,6])\n",
    "a"
   ]
  },
  {
   "cell_type": "code",
   "execution_count": 38,
   "id": "d8b66112",
   "metadata": {},
   "outputs": [
    {
     "data": {
      "text/plain": [
       "[1, 2, 3, [4, 5, 6], 4, 5, 6]"
      ]
     },
     "execution_count": 38,
     "metadata": {},
     "output_type": "execute_result"
    }
   ],
   "source": [
    "a.pop(0)\n",
    "a"
   ]
  },
  {
   "cell_type": "code",
   "execution_count": 39,
   "id": "842279d5",
   "metadata": {},
   "outputs": [
    {
     "data": {
      "text/plain": [
       "3"
      ]
     },
     "execution_count": 39,
     "metadata": {},
     "output_type": "execute_result"
    }
   ],
   "source": [
    "a.index([4,5,6])"
   ]
  },
  {
   "cell_type": "code",
   "execution_count": 40,
   "id": "b1613704",
   "metadata": {},
   "outputs": [
    {
     "data": {
      "text/plain": [
       "[1, 2, 3, 4, 5, 6]"
      ]
     },
     "execution_count": 40,
     "metadata": {},
     "output_type": "execute_result"
    }
   ],
   "source": [
    "a.remove([4,5,6])\n",
    "a"
   ]
  },
  {
   "cell_type": "code",
   "execution_count": 41,
   "id": "f3835ed4",
   "metadata": {},
   "outputs": [
    {
     "data": {
      "text/plain": [
       "1"
      ]
     },
     "execution_count": 41,
     "metadata": {},
     "output_type": "execute_result"
    }
   ],
   "source": [
    "a.count(2)"
   ]
  },
  {
   "cell_type": "code",
   "execution_count": 42,
   "id": "d31e3ef4",
   "metadata": {
    "scrolled": true
   },
   "outputs": [
    {
     "data": {
      "text/plain": [
       "[1, 2, 3, 4, 5, 6]"
      ]
     },
     "execution_count": 42,
     "metadata": {},
     "output_type": "execute_result"
    }
   ],
   "source": [
    "a.sort()\n",
    "a"
   ]
  },
  {
   "cell_type": "markdown",
   "id": "ca97c30d",
   "metadata": {},
   "source": [
    "### 시퀀스 데이터 타입"
   ]
  },
  {
   "cell_type": "code",
   "execution_count": 43,
   "id": "25cba6cc",
   "metadata": {
    "scrolled": true
   },
   "outputs": [
    {
     "name": "stdout",
     "output_type": "stream",
     "text": [
      "2\n",
      "abcd\n",
      "6\n",
      "1\n",
      "3\n"
     ]
    }
   ],
   "source": [
    "list_a=[2,3,\"abcd\",\"defg\",2,2]\n",
    "print(list_a[0])\n",
    "print(list_a[2])\n",
    "print(len(list_a))\n",
    "print(list_a.index(3))\n",
    "print(list_a.count(2))"
   ]
  },
  {
   "cell_type": "code",
   "execution_count": 44,
   "id": "a3f5709e",
   "metadata": {},
   "outputs": [
    {
     "name": "stdout",
     "output_type": "stream",
     "text": [
      "e\n",
      "a\n",
      "7\n",
      "0\n",
      "2\n"
     ]
    }
   ],
   "source": [
    "str_a=\"example\"\n",
    "print(str_a[0])\n",
    "print(str_a[2])\n",
    "print(len(str_a))\n",
    "print(str_a.index(\"e\"))\n",
    "print(str_a.count(\"e\"))"
   ]
  },
  {
   "cell_type": "markdown",
   "id": "14cd7b68",
   "metadata": {},
   "source": [
    "### 튜플"
   ]
  },
  {
   "cell_type": "code",
   "execution_count": 45,
   "id": "576a13e8",
   "metadata": {},
   "outputs": [
    {
     "data": {
      "text/plain": [
       "[3, 2, 3]"
      ]
     },
     "execution_count": 45,
     "metadata": {},
     "output_type": "execute_result"
    }
   ],
   "source": [
    "list_a = [1,2,3]\n",
    "list_a[0] = 3\n",
    "list_a"
   ]
  },
  {
   "cell_type": "code",
   "execution_count": 46,
   "id": "f2fe30b8",
   "metadata": {},
   "outputs": [
    {
     "data": {
      "text/plain": [
       "1"
      ]
     },
     "execution_count": 46,
     "metadata": {},
     "output_type": "execute_result"
    }
   ],
   "source": [
    "tuple_a = (1,2,3)\n",
    "tuple_a[0]"
   ]
  },
  {
   "cell_type": "code",
   "execution_count": 47,
   "id": "5bede1b0",
   "metadata": {},
   "outputs": [
    {
     "ename": "TypeError",
     "evalue": "'tuple' object does not support item assignment",
     "output_type": "error",
     "traceback": [
      "\u001b[1;31m---------------------------------------------------------------------------\u001b[0m",
      "\u001b[1;31mTypeError\u001b[0m                                 Traceback (most recent call last)",
      "Cell \u001b[1;32mIn[47], line 1\u001b[0m\n\u001b[1;32m----> 1\u001b[0m \u001b[43mtuple_a\u001b[49m\u001b[43m[\u001b[49m\u001b[38;5;241;43m0\u001b[39;49m\u001b[43m]\u001b[49m \u001b[38;5;241m=\u001b[39m \u001b[38;5;241m3\u001b[39m\n",
      "\u001b[1;31mTypeError\u001b[0m: 'tuple' object does not support item assignment"
     ]
    }
   ],
   "source": [
    "tuple_a[0] = 3"
   ]
  },
  {
   "cell_type": "markdown",
   "id": "0bbfc31c",
   "metadata": {},
   "source": [
    "### 집합"
   ]
  },
  {
   "cell_type": "code",
   "execution_count": 48,
   "id": "f6d6978d",
   "metadata": {},
   "outputs": [
    {
     "data": {
      "text/plain": [
       "{1, 2, 3, 4}"
      ]
     },
     "execution_count": 48,
     "metadata": {},
     "output_type": "execute_result"
    }
   ],
   "source": [
    "set([1,2,3,3,4,4,4])"
   ]
  },
  {
   "cell_type": "code",
   "execution_count": 49,
   "id": "58063592",
   "metadata": {},
   "outputs": [
    {
     "data": {
      "text/plain": [
       "{3, 4}"
      ]
     },
     "execution_count": 49,
     "metadata": {},
     "output_type": "execute_result"
    }
   ],
   "source": [
    "set1 = set([1,2,3,4])\n",
    "set2 = set([3,4,5,6])\n",
    "set1 & set2"
   ]
  },
  {
   "cell_type": "code",
   "execution_count": 50,
   "id": "23db52a9",
   "metadata": {},
   "outputs": [
    {
     "data": {
      "text/plain": [
       "{3, 4}"
      ]
     },
     "execution_count": 50,
     "metadata": {},
     "output_type": "execute_result"
    }
   ],
   "source": [
    "set1.intersection(set2)"
   ]
  },
  {
   "cell_type": "code",
   "execution_count": 51,
   "id": "4e2a866b",
   "metadata": {},
   "outputs": [
    {
     "data": {
      "text/plain": [
       "{1, 2, 3, 4, 5, 6}"
      ]
     },
     "execution_count": 51,
     "metadata": {},
     "output_type": "execute_result"
    }
   ],
   "source": [
    "set1 | set2"
   ]
  },
  {
   "cell_type": "code",
   "execution_count": 52,
   "id": "380ca133",
   "metadata": {},
   "outputs": [
    {
     "data": {
      "text/plain": [
       "{1, 2, 3, 4, 5, 6}"
      ]
     },
     "execution_count": 52,
     "metadata": {},
     "output_type": "execute_result"
    }
   ],
   "source": [
    "set1.union(set2)"
   ]
  },
  {
   "cell_type": "code",
   "execution_count": 53,
   "id": "524bf33d",
   "metadata": {},
   "outputs": [
    {
     "data": {
      "text/plain": [
       "{1, 2}"
      ]
     },
     "execution_count": 53,
     "metadata": {},
     "output_type": "execute_result"
    }
   ],
   "source": [
    "set1 - set2"
   ]
  },
  {
   "cell_type": "code",
   "execution_count": 54,
   "id": "3e129416",
   "metadata": {},
   "outputs": [
    {
     "data": {
      "text/plain": [
       "{1, 2}"
      ]
     },
     "execution_count": 54,
     "metadata": {},
     "output_type": "execute_result"
    }
   ],
   "source": [
    "set1.difference(set2)"
   ]
  },
  {
   "cell_type": "code",
   "execution_count": 55,
   "id": "d86ba209",
   "metadata": {},
   "outputs": [
    {
     "data": {
      "text/plain": [
       "{1, 2, 3, 4, 5}"
      ]
     },
     "execution_count": 55,
     "metadata": {},
     "output_type": "execute_result"
    }
   ],
   "source": [
    "set1.add(5)\n",
    "set1"
   ]
  },
  {
   "cell_type": "code",
   "execution_count": 56,
   "id": "4aa944d8",
   "metadata": {},
   "outputs": [
    {
     "data": {
      "text/plain": [
       "{1, 2, 3, 4, 5, 6, 7}"
      ]
     },
     "execution_count": 56,
     "metadata": {},
     "output_type": "execute_result"
    }
   ],
   "source": [
    "set1.update([5,6,7])\n",
    "set1"
   ]
  },
  {
   "cell_type": "code",
   "execution_count": 57,
   "id": "1789d85a",
   "metadata": {},
   "outputs": [
    {
     "data": {
      "text/plain": [
       "{1, 2, 3, 5, 6, 7}"
      ]
     },
     "execution_count": 57,
     "metadata": {},
     "output_type": "execute_result"
    }
   ],
   "source": [
    "set1.remove(4)\n",
    "set1"
   ]
  },
  {
   "cell_type": "code",
   "execution_count": 58,
   "id": "a7a92aba",
   "metadata": {},
   "outputs": [
    {
     "data": {
      "text/plain": [
       "[1, 2, 3, 5, 6, 7]"
      ]
     },
     "execution_count": 58,
     "metadata": {},
     "output_type": "execute_result"
    }
   ],
   "source": [
    "list(set1)"
   ]
  },
  {
   "cell_type": "markdown",
   "id": "2092970f",
   "metadata": {},
   "source": [
    "### 딕셔너리"
   ]
  },
  {
   "cell_type": "code",
   "execution_count": 59,
   "id": "4b3259dc",
   "metadata": {},
   "outputs": [],
   "source": [
    "dic = {'a': 1, \"b\": 2, 3: 4}"
   ]
  },
  {
   "cell_type": "code",
   "execution_count": 60,
   "id": "fde28683",
   "metadata": {},
   "outputs": [
    {
     "data": {
      "text/plain": [
       "{'a': 1, 'b': 2, 3: 4}"
      ]
     },
     "execution_count": 60,
     "metadata": {},
     "output_type": "execute_result"
    }
   ],
   "source": [
    "dic"
   ]
  },
  {
   "cell_type": "code",
   "execution_count": 61,
   "id": "98b3030c",
   "metadata": {},
   "outputs": [
    {
     "data": {
      "text/plain": [
       "{'a': [1, 2, 3], 'b': 2, 3: 4}"
      ]
     },
     "execution_count": 61,
     "metadata": {},
     "output_type": "execute_result"
    }
   ],
   "source": [
    "dic['a'] = [1,2,3]\n",
    "dic"
   ]
  },
  {
   "cell_type": "code",
   "execution_count": 62,
   "id": "682777fe",
   "metadata": {},
   "outputs": [],
   "source": [
    "del dic['a']"
   ]
  },
  {
   "cell_type": "code",
   "execution_count": 63,
   "id": "7f21a733",
   "metadata": {},
   "outputs": [
    {
     "data": {
      "text/plain": [
       "{'b': 2, 3: 4}"
      ]
     },
     "execution_count": 63,
     "metadata": {},
     "output_type": "execute_result"
    }
   ],
   "source": [
    "dic"
   ]
  },
  {
   "cell_type": "code",
   "execution_count": 64,
   "id": "6202de45",
   "metadata": {},
   "outputs": [
    {
     "data": {
      "text/plain": [
       "{'b': 2, 3: 4, 'c': 3}"
      ]
     },
     "execution_count": 64,
     "metadata": {},
     "output_type": "execute_result"
    }
   ],
   "source": [
    "dic['c'] = 3\n",
    "dic"
   ]
  },
  {
   "cell_type": "code",
   "execution_count": 65,
   "id": "38af56bc",
   "metadata": {},
   "outputs": [
    {
     "data": {
      "text/plain": [
       "False"
      ]
     },
     "execution_count": 65,
     "metadata": {},
     "output_type": "execute_result"
    }
   ],
   "source": [
    "'a' in dic"
   ]
  },
  {
   "cell_type": "code",
   "execution_count": 66,
   "id": "b71b2f90",
   "metadata": {},
   "outputs": [
    {
     "data": {
      "text/plain": [
       "True"
      ]
     },
     "execution_count": 66,
     "metadata": {},
     "output_type": "execute_result"
    }
   ],
   "source": [
    "'b' in dic"
   ]
  },
  {
   "cell_type": "code",
   "execution_count": 67,
   "id": "36d737ca",
   "metadata": {},
   "outputs": [
    {
     "data": {
      "text/plain": [
       "dict_keys(['b', 3, 'c'])"
      ]
     },
     "execution_count": 67,
     "metadata": {},
     "output_type": "execute_result"
    }
   ],
   "source": [
    "dic.keys()"
   ]
  },
  {
   "cell_type": "code",
   "execution_count": 68,
   "id": "fd587441",
   "metadata": {},
   "outputs": [
    {
     "data": {
      "text/plain": [
       "dict_values([2, 4, 3])"
      ]
     },
     "execution_count": 68,
     "metadata": {},
     "output_type": "execute_result"
    }
   ],
   "source": [
    "dic.values()"
   ]
  },
  {
   "cell_type": "code",
   "execution_count": 69,
   "id": "5ed389fe",
   "metadata": {},
   "outputs": [
    {
     "data": {
      "text/plain": [
       "dict_items([('b', 2), (3, 4), ('c', 3)])"
      ]
     },
     "execution_count": 69,
     "metadata": {},
     "output_type": "execute_result"
    }
   ],
   "source": [
    "dic.items()"
   ]
  },
  {
   "cell_type": "markdown",
   "id": "420c9cb3",
   "metadata": {},
   "source": [
    "### 불"
   ]
  },
  {
   "cell_type": "code",
   "execution_count": 70,
   "id": "02b91d22",
   "metadata": {},
   "outputs": [
    {
     "data": {
      "text/plain": [
       "True"
      ]
     },
     "execution_count": 70,
     "metadata": {},
     "output_type": "execute_result"
    }
   ],
   "source": [
    "2>1"
   ]
  },
  {
   "cell_type": "code",
   "execution_count": 71,
   "id": "acf16607",
   "metadata": {},
   "outputs": [
    {
     "data": {
      "text/plain": [
       "False"
      ]
     },
     "execution_count": 71,
     "metadata": {},
     "output_type": "execute_result"
    }
   ],
   "source": [
    "2<1"
   ]
  },
  {
   "cell_type": "code",
   "execution_count": 72,
   "id": "c02aa833",
   "metadata": {},
   "outputs": [
    {
     "data": {
      "text/plain": [
       "True"
      ]
     },
     "execution_count": 72,
     "metadata": {},
     "output_type": "execute_result"
    }
   ],
   "source": [
    "bool(1)"
   ]
  },
  {
   "cell_type": "code",
   "execution_count": 73,
   "id": "3cc9e3c4",
   "metadata": {},
   "outputs": [
    {
     "data": {
      "text/plain": [
       "False"
      ]
     },
     "execution_count": 73,
     "metadata": {},
     "output_type": "execute_result"
    }
   ],
   "source": [
    "bool(0)"
   ]
  },
  {
   "cell_type": "code",
   "execution_count": 74,
   "id": "69c81bbc",
   "metadata": {},
   "outputs": [
    {
     "data": {
      "text/plain": [
       "True"
      ]
     },
     "execution_count": 74,
     "metadata": {},
     "output_type": "execute_result"
    }
   ],
   "source": [
    "bool('False')"
   ]
  },
  {
   "cell_type": "code",
   "execution_count": 75,
   "id": "ec80b2b2",
   "metadata": {},
   "outputs": [
    {
     "data": {
      "text/plain": [
       "False"
      ]
     },
     "execution_count": 75,
     "metadata": {},
     "output_type": "execute_result"
    }
   ],
   "source": [
    "bool('')"
   ]
  },
  {
   "cell_type": "code",
   "execution_count": 76,
   "id": "323726c7",
   "metadata": {},
   "outputs": [
    {
     "data": {
      "text/plain": [
       "False"
      ]
     },
     "execution_count": 76,
     "metadata": {},
     "output_type": "execute_result"
    }
   ],
   "source": [
    "bool([])"
   ]
  },
  {
   "cell_type": "code",
   "execution_count": 77,
   "id": "8cf374fa",
   "metadata": {},
   "outputs": [
    {
     "data": {
      "text/plain": [
       "True"
      ]
     },
     "execution_count": 77,
     "metadata": {},
     "output_type": "execute_result"
    }
   ],
   "source": [
    "bool([False])"
   ]
  },
  {
   "cell_type": "code",
   "execution_count": 78,
   "id": "530f7583",
   "metadata": {},
   "outputs": [
    {
     "data": {
      "text/plain": [
       "False"
      ]
     },
     "execution_count": 78,
     "metadata": {},
     "output_type": "execute_result"
    }
   ],
   "source": [
    "True and False"
   ]
  },
  {
   "cell_type": "code",
   "execution_count": 79,
   "id": "d54e54ae",
   "metadata": {},
   "outputs": [
    {
     "data": {
      "text/plain": [
       "True"
      ]
     },
     "execution_count": 79,
     "metadata": {},
     "output_type": "execute_result"
    }
   ],
   "source": [
    "True or False"
   ]
  },
  {
   "cell_type": "code",
   "execution_count": 80,
   "id": "7f38911b",
   "metadata": {
    "scrolled": true
   },
   "outputs": [
    {
     "data": {
      "text/plain": [
       "False"
      ]
     },
     "execution_count": 80,
     "metadata": {},
     "output_type": "execute_result"
    }
   ],
   "source": [
    "not True"
   ]
  },
  {
   "cell_type": "markdown",
   "id": "0d8f01a1",
   "metadata": {},
   "source": [
    "### 배열(Array) "
   ]
  },
  {
   "cell_type": "code",
   "execution_count": 81,
   "id": "b13412e5",
   "metadata": {},
   "outputs": [],
   "source": [
    "import numpy as np\n",
    "num_1=np.array(1)\n",
    "num_2=np.array([1,2])\n",
    "num_3=np.array([[1,2],[3,4]])"
   ]
  },
  {
   "cell_type": "code",
   "execution_count": 82,
   "id": "31a15ce1",
   "metadata": {
    "scrolled": true
   },
   "outputs": [
    {
     "name": "stdout",
     "output_type": "stream",
     "text": [
      "()\n",
      "(2,)\n",
      "(2, 2)\n"
     ]
    }
   ],
   "source": [
    "print(num_1.shape)\n",
    "print(num_2.shape)\n",
    "print(num_3.shape)"
   ]
  },
  {
   "cell_type": "code",
   "execution_count": 83,
   "id": "e406f3f9",
   "metadata": {},
   "outputs": [
    {
     "ename": "IndexError",
     "evalue": "too many indices for array: array is 0-dimensional, but 1 were indexed",
     "output_type": "error",
     "traceback": [
      "\u001b[1;31m---------------------------------------------------------------------------\u001b[0m",
      "\u001b[1;31mIndexError\u001b[0m                                Traceback (most recent call last)",
      "Cell \u001b[1;32mIn[83], line 1\u001b[0m\n\u001b[1;32m----> 1\u001b[0m \u001b[38;5;28mprint\u001b[39m(\u001b[43mnum_1\u001b[49m\u001b[43m[\u001b[49m\u001b[38;5;241;43m0\u001b[39;49m\u001b[43m]\u001b[49m)\n",
      "\u001b[1;31mIndexError\u001b[0m: too many indices for array: array is 0-dimensional, but 1 were indexed"
     ]
    }
   ],
   "source": [
    "print(num_1[0])"
   ]
  },
  {
   "cell_type": "code",
   "execution_count": 89,
   "id": "1b589786",
   "metadata": {},
   "outputs": [
    {
     "name": "stdout",
     "output_type": "stream",
     "text": [
      "1\n",
      "[1 2]\n"
     ]
    }
   ],
   "source": [
    "print(num_2[0])\n",
    "print(num_3[0])"
   ]
  },
  {
   "cell_type": "code",
   "execution_count": 90,
   "id": "7d7dad6a",
   "metadata": {
    "scrolled": true
   },
   "outputs": [
    {
     "name": "stdout",
     "output_type": "stream",
     "text": [
      "2.11.0\n",
      "60000\n",
      "10000\n",
      "10000\n"
     ]
    }
   ],
   "source": [
    "import tensorflow as tf\n",
    "from tensorflow import keras\n",
    "\n",
    "import numpy as np\n",
    "\n",
    "\n",
    "\n",
    "print(tf.__version__)   # Tensorflow의 버전을 출력\n",
    "\n",
    "mnist = keras.datasets.mnist\n",
    "\n",
    "# MNIST 데이터를 로드. 다운로드하지 않았다면 다운로드까지 자동으로 진행됩니다. \n",
    "(x_train, y_train), (x_test, y_test) = mnist.load_data()   \n",
    "\n",
    "print(len(x_train))  # x_train 배열의 크기를 출력\n",
    "print(len(x_test))\n",
    "print(len(y_test ))"
   ]
  },
  {
   "cell_type": "code",
   "execution_count": 91,
   "id": "bcee8761",
   "metadata": {},
   "outputs": [
    {
     "name": "stdout",
     "output_type": "stream",
     "text": [
      "<class 'numpy.ndarray'>\n",
      "(10000, 28, 28)\n",
      "<class 'numpy.ndarray'>\n",
      "(28, 28)\n"
     ]
    }
   ],
   "source": [
    "print(type(x_test))\n",
    "print(x_test.shape)\n",
    "print(type(x_test[0]))\n",
    "print(x_test[0].shape)"
   ]
  },
  {
   "cell_type": "code",
   "execution_count": 92,
   "id": "19cbd55e",
   "metadata": {},
   "outputs": [
    {
     "data": {
      "text/plain": [
       "array([[  0,   0,   0,   0,   0,   0,   0,   0,   0,   0,   0,   0,   0,\n",
       "          0,   0,   0,   0,   0,   0,   0,   0,   0,   0,   0,   0,   0,\n",
       "          0,   0],\n",
       "       [  0,   0,   0,   0,   0,   0,   0,   0,   0,   0,   0,   0,   0,\n",
       "          0,   0,   0,   0,   0,   0,   0,   0,   0,   0,   0,   0,   0,\n",
       "          0,   0],\n",
       "       [  0,   0,   0,   0,   0,   0,   0,   0,   0,   0,   0,   0,   0,\n",
       "          0,   0,   0,   0,   0,   0,   0,   0,   0,   0,   0,   0,   0,\n",
       "          0,   0],\n",
       "       [  0,   0,   0,   0,   0,   0,   0,   0,   0,   0,   0,   0,   0,\n",
       "          0,   0,   0,   0,   0,   0,   0,   0,   0,   0,   0,   0,   0,\n",
       "          0,   0],\n",
       "       [  0,   0,   0,   0,   0,   0,   0,   0,   0,   0,   0,   0,   0,\n",
       "          0,   0,   0,   0,   0,   0,   0,   0,   0,   0,   0,   0,   0,\n",
       "          0,   0],\n",
       "       [  0,   0,   0,   0,   0,   0,   0,   0,   0,   0,   0,   0,   0,\n",
       "          0,   0,   0,   0,   0,   0,   0,   0,   0,   0,   0,   0,   0,\n",
       "          0,   0],\n",
       "       [  0,   0,   0,   0,   0,   0,   0,   0,   0,   0,   0,   0,   0,\n",
       "          0,   0,   0,   0,   0,   0,   0,   0,   0,   0,   0,   0,   0,\n",
       "          0,   0],\n",
       "       [  0,   0,   0,   0,   0,   0,  84, 185, 159, 151,  60,  36,   0,\n",
       "          0,   0,   0,   0,   0,   0,   0,   0,   0,   0,   0,   0,   0,\n",
       "          0,   0],\n",
       "       [  0,   0,   0,   0,   0,   0, 222, 254, 254, 254, 254, 241, 198,\n",
       "        198, 198, 198, 198, 198, 198, 198, 170,  52,   0,   0,   0,   0,\n",
       "          0,   0],\n",
       "       [  0,   0,   0,   0,   0,   0,  67, 114,  72, 114, 163, 227, 254,\n",
       "        225, 254, 254, 254, 250, 229, 254, 254, 140,   0,   0,   0,   0,\n",
       "          0,   0],\n",
       "       [  0,   0,   0,   0,   0,   0,   0,   0,   0,   0,   0,  17,  66,\n",
       "         14,  67,  67,  67,  59,  21, 236, 254, 106,   0,   0,   0,   0,\n",
       "          0,   0],\n",
       "       [  0,   0,   0,   0,   0,   0,   0,   0,   0,   0,   0,   0,   0,\n",
       "          0,   0,   0,   0,   0,  83, 253, 209,  18,   0,   0,   0,   0,\n",
       "          0,   0],\n",
       "       [  0,   0,   0,   0,   0,   0,   0,   0,   0,   0,   0,   0,   0,\n",
       "          0,   0,   0,   0,  22, 233, 255,  83,   0,   0,   0,   0,   0,\n",
       "          0,   0],\n",
       "       [  0,   0,   0,   0,   0,   0,   0,   0,   0,   0,   0,   0,   0,\n",
       "          0,   0,   0,   0, 129, 254, 238,  44,   0,   0,   0,   0,   0,\n",
       "          0,   0],\n",
       "       [  0,   0,   0,   0,   0,   0,   0,   0,   0,   0,   0,   0,   0,\n",
       "          0,   0,   0,  59, 249, 254,  62,   0,   0,   0,   0,   0,   0,\n",
       "          0,   0],\n",
       "       [  0,   0,   0,   0,   0,   0,   0,   0,   0,   0,   0,   0,   0,\n",
       "          0,   0,   0, 133, 254, 187,   5,   0,   0,   0,   0,   0,   0,\n",
       "          0,   0],\n",
       "       [  0,   0,   0,   0,   0,   0,   0,   0,   0,   0,   0,   0,   0,\n",
       "          0,   0,   9, 205, 248,  58,   0,   0,   0,   0,   0,   0,   0,\n",
       "          0,   0],\n",
       "       [  0,   0,   0,   0,   0,   0,   0,   0,   0,   0,   0,   0,   0,\n",
       "          0,   0, 126, 254, 182,   0,   0,   0,   0,   0,   0,   0,   0,\n",
       "          0,   0],\n",
       "       [  0,   0,   0,   0,   0,   0,   0,   0,   0,   0,   0,   0,   0,\n",
       "          0,  75, 251, 240,  57,   0,   0,   0,   0,   0,   0,   0,   0,\n",
       "          0,   0],\n",
       "       [  0,   0,   0,   0,   0,   0,   0,   0,   0,   0,   0,   0,   0,\n",
       "         19, 221, 254, 166,   0,   0,   0,   0,   0,   0,   0,   0,   0,\n",
       "          0,   0],\n",
       "       [  0,   0,   0,   0,   0,   0,   0,   0,   0,   0,   0,   0,   3,\n",
       "        203, 254, 219,  35,   0,   0,   0,   0,   0,   0,   0,   0,   0,\n",
       "          0,   0],\n",
       "       [  0,   0,   0,   0,   0,   0,   0,   0,   0,   0,   0,   0,  38,\n",
       "        254, 254,  77,   0,   0,   0,   0,   0,   0,   0,   0,   0,   0,\n",
       "          0,   0],\n",
       "       [  0,   0,   0,   0,   0,   0,   0,   0,   0,   0,   0,  31, 224,\n",
       "        254, 115,   1,   0,   0,   0,   0,   0,   0,   0,   0,   0,   0,\n",
       "          0,   0],\n",
       "       [  0,   0,   0,   0,   0,   0,   0,   0,   0,   0,   0, 133, 254,\n",
       "        254,  52,   0,   0,   0,   0,   0,   0,   0,   0,   0,   0,   0,\n",
       "          0,   0],\n",
       "       [  0,   0,   0,   0,   0,   0,   0,   0,   0,   0,  61, 242, 254,\n",
       "        254,  52,   0,   0,   0,   0,   0,   0,   0,   0,   0,   0,   0,\n",
       "          0,   0],\n",
       "       [  0,   0,   0,   0,   0,   0,   0,   0,   0,   0, 121, 254, 254,\n",
       "        219,  40,   0,   0,   0,   0,   0,   0,   0,   0,   0,   0,   0,\n",
       "          0,   0],\n",
       "       [  0,   0,   0,   0,   0,   0,   0,   0,   0,   0, 121, 254, 207,\n",
       "         18,   0,   0,   0,   0,   0,   0,   0,   0,   0,   0,   0,   0,\n",
       "          0,   0],\n",
       "       [  0,   0,   0,   0,   0,   0,   0,   0,   0,   0,   0,   0,   0,\n",
       "          0,   0,   0,   0,   0,   0,   0,   0,   0,   0,   0,   0,   0,\n",
       "          0,   0]], dtype=uint8)"
      ]
     },
     "execution_count": 92,
     "metadata": {},
     "output_type": "execute_result"
    }
   ],
   "source": [
    "x_test[0]"
   ]
  },
  {
   "cell_type": "markdown",
   "id": "09f8966e",
   "metadata": {},
   "source": [
    "## 조건문"
   ]
  },
  {
   "cell_type": "code",
   "execution_count": 93,
   "id": "273482c2",
   "metadata": {},
   "outputs": [
    {
     "name": "stdout",
     "output_type": "stream",
     "text": [
      "==============\n"
     ]
    }
   ],
   "source": [
    "a = 10\n",
    "if a > 15:\n",
    "    print(\"a는 15보다 큽니다.\")\n",
    "print(\"==============\")"
   ]
  },
  {
   "cell_type": "code",
   "execution_count": 94,
   "id": "cf2414de",
   "metadata": {},
   "outputs": [
    {
     "name": "stdout",
     "output_type": "stream",
     "text": [
      "a는 15보다 작습니다.\n",
      "==============\n"
     ]
    }
   ],
   "source": [
    "a = 10\n",
    "if a > 15:\n",
    "    print(\"a는 15보다 큽니다.\")\n",
    "else:\n",
    "    print(\"a는 15보다 작습니다.\")\n",
    "print(\"==============\")"
   ]
  },
  {
   "cell_type": "code",
   "execution_count": 95,
   "id": "0f3a7ac1",
   "metadata": {
    "scrolled": true
   },
   "outputs": [
    {
     "name": "stdout",
     "output_type": "stream",
     "text": [
      "a는 18이하 16초과입니다.\n",
      "==============\n"
     ]
    }
   ],
   "source": [
    "a = 18\n",
    "if a > 20:\n",
    "    print(\"a는 20보다 큽니다.\")\n",
    "elif a > 18:\n",
    "    print(\"a는 20이하 18초과입니다.\")\n",
    "elif a > 16:\n",
    "    print(\"a는 18이하 16초과입니다.\")\n",
    "else:\n",
    "    print(\"a는 15보다 작습니다.\")\n",
    "print(\"==============\")"
   ]
  },
  {
   "cell_type": "code",
   "execution_count": 96,
   "id": "700ee963",
   "metadata": {},
   "outputs": [
    {
     "name": "stdout",
     "output_type": "stream",
     "text": [
      "zero\n"
     ]
    }
   ],
   "source": [
    "condition=0\n",
    "\n",
    "if condition > 0:\n",
    "    print(\"positive\")\n",
    "elif condition <0:\n",
    "    print(\"negative\")\n",
    "else:\n",
    "    print(\"zero\")"
   ]
  },
  {
   "cell_type": "code",
   "execution_count": 97,
   "id": "a0cd1369",
   "metadata": {},
   "outputs": [
    {
     "name": "stdout",
     "output_type": "stream",
     "text": [
      "No way\n"
     ]
    }
   ],
   "source": [
    "condition_1 =True\n",
    "condition_2 = False\n",
    "\n",
    "if condition_1 & condition_2:\n",
    "    print(\"both and True\")\n",
    "else:\n",
    "    print(\"No way\")"
   ]
  },
  {
   "cell_type": "markdown",
   "id": "d3dcc6fd",
   "metadata": {},
   "source": [
    "## 반복문"
   ]
  },
  {
   "cell_type": "code",
   "execution_count": 98,
   "id": "1f72d131",
   "metadata": {},
   "outputs": [
    {
     "name": "stdout",
     "output_type": "stream",
     "text": [
      "0\n",
      "1\n",
      "2\n",
      "3\n",
      "4\n",
      "5\n",
      "6\n",
      "7\n",
      "8\n",
      "9\n"
     ]
    }
   ],
   "source": [
    "for i in range(10):\n",
    "    print(i)"
   ]
  },
  {
   "cell_type": "code",
   "execution_count": 99,
   "id": "672db805",
   "metadata": {},
   "outputs": [
    {
     "name": "stdout",
     "output_type": "stream",
     "text": [
      "List\n",
      "1\n",
      "2\n",
      "3\n",
      "Tuple\n",
      "1\n",
      "2\n",
      "3\n"
     ]
    }
   ],
   "source": [
    "print(\"List\")\n",
    "for x in [1,2,3]:\n",
    "    print(x)\n",
    "    \n",
    "print(\"Tuple\")\n",
    "for x in (1,2,3):\n",
    "    print(x)"
   ]
  },
  {
   "cell_type": "code",
   "execution_count": 105,
   "id": "d5cc46a8",
   "metadata": {
    "scrolled": false
   },
   "outputs": [
    {
     "name": "stdout",
     "output_type": "stream",
     "text": [
      "3\n",
      "4\n",
      "5\n",
      "6\n"
     ]
    }
   ],
   "source": [
    "list_a = [1, 2, 3, 4]\n",
    "for i in list_a:\n",
    "    print(i + 2)\n"
   ]
  },
  {
   "cell_type": "code",
   "execution_count": 106,
   "id": "d2e70592",
   "metadata": {},
   "outputs": [
    {
     "name": "stdout",
     "output_type": "stream",
     "text": [
      "a\n",
      "b\n",
      "3\n",
      "1\n",
      "2\n",
      "4\n",
      "a 1\n",
      "b 2\n",
      "3 4\n"
     ]
    }
   ],
   "source": [
    "d = {'a': 1, 'b': 2, 3: 4}\n",
    "for key in d.keys():\n",
    "    print(key)\n",
    "    \n",
    "for value in d.values():\n",
    "    print(value)\n",
    "\n",
    "for key, value in d.items():\n",
    "    print(key, value)"
   ]
  },
  {
   "cell_type": "code",
   "execution_count": 107,
   "id": "01e34102",
   "metadata": {},
   "outputs": [
    {
     "data": {
      "text/plain": [
       "55"
      ]
     },
     "execution_count": 107,
     "metadata": {},
     "output_type": "execute_result"
    }
   ],
   "source": [
    "add = 0 \n",
    "for i in range(1, 11): \n",
    "    add = add + i \n",
    "add"
   ]
  },
  {
   "cell_type": "code",
   "execution_count": 108,
   "id": "8420633e",
   "metadata": {},
   "outputs": [
    {
     "name": "stdout",
     "output_type": "stream",
     "text": [
      "90\n",
      "25\n",
      "67\n",
      "45\n",
      "80\n"
     ]
    }
   ],
   "source": [
    "marks = [90, 25, 67, 45, 80]\n",
    "for number in range(len(marks)):\n",
    "    print(marks[number]) "
   ]
  },
  {
   "cell_type": "code",
   "execution_count": 109,
   "id": "c8aa077a",
   "metadata": {},
   "outputs": [
    {
     "name": "stdout",
     "output_type": "stream",
     "text": [
      "0 1\n",
      "1 2\n",
      "2 3\n"
     ]
    }
   ],
   "source": [
    "a = [1,2,3]\n",
    "for idx, x in enumerate(a):\n",
    "    print(idx, x) # x = a[idx]"
   ]
  },
  {
   "cell_type": "code",
   "execution_count": 110,
   "id": "e9be5792",
   "metadata": {},
   "outputs": [
    {
     "name": "stdout",
     "output_type": "stream",
     "text": [
      "0\n",
      "1\n",
      "2\n",
      "3\n",
      "4\n",
      "5\n",
      "6\n",
      "7\n",
      "8\n",
      "9\n"
     ]
    }
   ],
   "source": [
    "i = 0\n",
    "while i < 10:\n",
    "    print(i)\n",
    "    i += 1"
   ]
  },
  {
   "cell_type": "code",
   "execution_count": 111,
   "id": "3d8f94b9",
   "metadata": {},
   "outputs": [
    {
     "name": "stdout",
     "output_type": "stream",
     "text": [
      "구구단 2 단입니다.\n",
      "구구단 3 단입니다.\n",
      "구구단 4 단입니다.\n",
      "구구단 5 단입니다.\n",
      "구구단 6 단입니다.\n",
      "구구단 7 단입니다.\n",
      "구구단 8 단입니다.\n",
      "구구단 9 단입니다.\n",
      "구구단 출력을 마칩니다.\n"
     ]
    }
   ],
   "source": [
    "for i in range(2, 100):\n",
    "    if(i > 9):\n",
    "        break\n",
    "    print(\"구구단\", i, \"단입니다.\")\n",
    "print(\"구구단 출력을 마칩니다.\")\n"
   ]
  },
  {
   "cell_type": "code",
   "execution_count": 112,
   "id": "1791d2b8",
   "metadata": {},
   "outputs": [
    {
     "name": "stdout",
     "output_type": "stream",
     "text": [
      "구구단 2 단입니다.\n",
      "구구단 3 단입니다.\n",
      "구구단 4 단입니다.\n",
      "5단은 모르겠습니다.\n",
      "구구단 6 단입니다.\n",
      "구구단 7 단입니다.\n",
      "구구단 8 단입니다.\n",
      "구구단 9 단입니다.\n"
     ]
    }
   ],
   "source": [
    "for i in range(2, 10):\n",
    "    if(i == 5):\n",
    "        print(\"5단은 모르겠습니다.\")\n",
    "        continue\n",
    "    print(\"구구단\", i, \"단입니다.\")"
   ]
  },
  {
   "cell_type": "code",
   "execution_count": 113,
   "id": "28c8ce60",
   "metadata": {
    "scrolled": true
   },
   "outputs": [
    {
     "name": "stdout",
     "output_type": "stream",
     "text": [
      "구구단 2 단을 출력합니다.\n",
      "2 x 2 = 4\n",
      "2 x 3 = 6\n",
      "2 x 4 = 8\n",
      "2 x 5 = 10\n",
      "2 x 6 = 12\n",
      "2 x 7 = 14\n",
      "2 x 8 = 16\n",
      "2 x 9 = 18\n"
     ]
    }
   ],
   "source": [
    "dan = 2\n",
    "print(\"구구단\", dan, \"단을 출력합니다.\")\n",
    "print(dan, \"x 2 =\", dan * 2)\n",
    "print(dan, \"x 3 =\", dan * 3)\n",
    "print(dan, \"x 4 =\", dan * 4)\n",
    "print(dan, \"x 5 =\", dan * 5)\n",
    "print(dan, \"x 6 =\", dan * 6)\n",
    "print(dan, \"x 7 =\", dan * 7)\n",
    "print(dan, \"x 8 =\", dan * 8)\n",
    "print(dan, \"x 9 =\", dan * 9)"
   ]
  },
  {
   "cell_type": "code",
   "execution_count": 114,
   "id": "1c082482",
   "metadata": {},
   "outputs": [
    {
     "name": "stdout",
     "output_type": "stream",
     "text": [
      "구구단 2 단을 출력합니다.\n",
      "2 x 2 = 4\n",
      "2 x 3 = 6\n",
      "2 x 4 = 8\n",
      "2 x 5 = 10\n",
      "2 x 6 = 12\n",
      "2 x 7 = 14\n",
      "2 x 8 = 16\n",
      "2 x 9 = 18\n"
     ]
    }
   ],
   "source": [
    "dan = 2\n",
    "print(\"구구단\", dan, \"단을 출력합니다.\")\n",
    "for i in range(2, 10):\n",
    "    print(dan, \"x\", i, \"=\", dan * i)\n"
   ]
  },
  {
   "cell_type": "code",
   "execution_count": 115,
   "id": "a4471b55",
   "metadata": {
    "scrolled": true
   },
   "outputs": [
    {
     "name": "stdout",
     "output_type": "stream",
     "text": [
      "구구단 2 단을 출력합니다.\n",
      "2 x 2 = 4\n",
      "2 x 3 = 6\n",
      "2 x 4 = 8\n",
      "2 x 5 = 10\n",
      "2 x 6 = 12\n",
      "2 x 7 = 14\n",
      "2 x 8 = 16\n",
      "2 x 9 = 18\n",
      "구구단 3 단을 출력합니다.\n",
      "3 x 2 = 6\n",
      "3 x 3 = 9\n",
      "3 x 4 = 12\n",
      "3 x 5 = 15\n",
      "3 x 6 = 18\n",
      "3 x 7 = 21\n",
      "3 x 8 = 24\n",
      "3 x 9 = 27\n",
      "구구단 9 단을 출력합니다.\n",
      "9 x 2 = 18\n",
      "9 x 3 = 27\n",
      "9 x 4 = 36\n",
      "9 x 5 = 45\n",
      "9 x 6 = 54\n",
      "9 x 7 = 63\n",
      "9 x 8 = 72\n",
      "9 x 9 = 81\n"
     ]
    }
   ],
   "source": [
    "dan = 2\n",
    "print(\"구구단\", dan, \"단을 출력합니다.\")\n",
    "for i in range(2, 10):\n",
    "    print(dan, \"x\", i, \"=\", dan * i)\n",
    "\n",
    "dan = 3\n",
    "print(\"구구단\", dan, \"단을 출력합니다.\")\n",
    "for i in range(2, 10):\n",
    "    print(dan, \"x\", i, \"=\", dan * i)\n",
    "\n",
    "dan = 9\n",
    "print(\"구구단\", dan, \"단을 출력합니다.\")\n",
    "for i in range(2, 10):\n",
    "    print(dan, \"x\", i, \"=\", dan * i)\n"
   ]
  },
  {
   "cell_type": "code",
   "execution_count": 116,
   "id": "385569fa",
   "metadata": {},
   "outputs": [
    {
     "name": "stdout",
     "output_type": "stream",
     "text": [
      "구구단 2 단을 출력합니다.\n",
      "2 x 2 = 4\n",
      "2 x 3 = 6\n",
      "2 x 4 = 8\n",
      "2 x 5 = 10\n",
      "2 x 6 = 12\n",
      "2 x 7 = 14\n",
      "2 x 8 = 16\n",
      "2 x 9 = 18\n",
      "구구단 3 단을 출력합니다.\n",
      "3 x 2 = 6\n",
      "3 x 3 = 9\n",
      "3 x 4 = 12\n",
      "3 x 5 = 15\n",
      "3 x 6 = 18\n",
      "3 x 7 = 21\n",
      "3 x 8 = 24\n",
      "3 x 9 = 27\n",
      "구구단 4 단을 출력합니다.\n",
      "4 x 2 = 8\n",
      "4 x 3 = 12\n",
      "4 x 4 = 16\n",
      "4 x 5 = 20\n",
      "4 x 6 = 24\n",
      "4 x 7 = 28\n",
      "4 x 8 = 32\n",
      "4 x 9 = 36\n",
      "구구단 5 단을 출력합니다.\n",
      "5 x 2 = 10\n",
      "5 x 3 = 15\n",
      "5 x 4 = 20\n",
      "5 x 5 = 25\n",
      "5 x 6 = 30\n",
      "5 x 7 = 35\n",
      "5 x 8 = 40\n",
      "5 x 9 = 45\n",
      "구구단 6 단을 출력합니다.\n",
      "6 x 2 = 12\n",
      "6 x 3 = 18\n",
      "6 x 4 = 24\n",
      "6 x 5 = 30\n",
      "6 x 6 = 36\n",
      "6 x 7 = 42\n",
      "6 x 8 = 48\n",
      "6 x 9 = 54\n",
      "구구단 7 단을 출력합니다.\n",
      "7 x 2 = 14\n",
      "7 x 3 = 21\n",
      "7 x 4 = 28\n",
      "7 x 5 = 35\n",
      "7 x 6 = 42\n",
      "7 x 7 = 49\n",
      "7 x 8 = 56\n",
      "7 x 9 = 63\n",
      "구구단 8 단을 출력합니다.\n",
      "8 x 2 = 16\n",
      "8 x 3 = 24\n",
      "8 x 4 = 32\n",
      "8 x 5 = 40\n",
      "8 x 6 = 48\n",
      "8 x 7 = 56\n",
      "8 x 8 = 64\n",
      "8 x 9 = 72\n",
      "구구단 9 단을 출력합니다.\n",
      "9 x 2 = 18\n",
      "9 x 3 = 27\n",
      "9 x 4 = 36\n",
      "9 x 5 = 45\n",
      "9 x 6 = 54\n",
      "9 x 7 = 63\n",
      "9 x 8 = 72\n",
      "9 x 9 = 81\n"
     ]
    }
   ],
   "source": [
    "for dan in range(2, 10):\n",
    "    print(\"구구단\", dan, \"단을 출력합니다.\")\n",
    "    for i in range(2, 10):\n",
    "        print(dan, \"x\", i, \"=\", dan * i)"
   ]
  },
  {
   "cell_type": "code",
   "execution_count": 117,
   "id": "f9d8ad4d",
   "metadata": {
    "scrolled": false
   },
   "outputs": [
    {
     "name": "stdout",
     "output_type": "stream",
     "text": [
      "*\n",
      "**\n",
      "***\n",
      "****\n",
      "*****\n"
     ]
    }
   ],
   "source": [
    "# diy1\n",
    "for i in range(1, 6):\n",
    "    print(\"*\"*i)\n"
   ]
  },
  {
   "cell_type": "code",
   "execution_count": 118,
   "id": "3717e460",
   "metadata": {},
   "outputs": [],
   "source": [
    "# diy 2~4 풀어보기"
   ]
  },
  {
   "cell_type": "code",
   "execution_count": null,
   "id": "b594a7ed",
   "metadata": {},
   "outputs": [],
   "source": []
  },
  {
   "cell_type": "code",
   "execution_count": 119,
   "id": "4db779bf",
   "metadata": {
    "scrolled": true
   },
   "outputs": [
    {
     "name": "stdout",
     "output_type": "stream",
     "text": [
      "12345\n",
      " 1234\n",
      "  123\n",
      "   12\n",
      "    1\n"
     ]
    }
   ],
   "source": [
    "# diy 5\n",
    "for i in range(5): #i가 행번호가 됨\n",
    "    #공백 먼저 찍어보기 : 공백수=행번호\n",
    "    print(\" \" * i, end=\"\") #엔터 못치게 옵션줘\n",
    "    #숫자 찍고\n",
    "    for j in range(1, 6-i):\n",
    "        print(j, end=\"\")\n",
    "        # if j==(5-i): #j가 5-i가 되면 엔터 한번 쳐줘\n",
    "        #     print()\n",
    "    #엔터를 쳐줘 - 가장 일반적\n",
    "    print()"
   ]
  },
  {
   "cell_type": "code",
   "execution_count": 120,
   "id": "07383df2",
   "metadata": {},
   "outputs": [
    {
     "name": "stdout",
     "output_type": "stream",
     "text": [
      "123454321\n",
      " 1234321\n",
      "  12321\n",
      "   121\n",
      "    1\n"
     ]
    }
   ],
   "source": [
    "# diy 6\n",
    "for i in range(5): #i가 행번호가 됨\n",
    "    #공백 먼저 찍어보기 : 공백수=행번호\n",
    "    print(\" \" * i, end=\"\") #엔터 못치게 옵션줘\n",
    "    #숫자 찍고\n",
    "    for j in range(1, 6-i):\n",
    "        print(j, end=\"\")\n",
    "        # if j==(5-i): #j가 5-i가 되면 엔터 한번 쳐줘\n",
    "        #     print()\n",
    "\n",
    "    #숫자를 4321 찍으면됨\n",
    "    for j in range(4-i, 0, -1):\n",
    "        print(j, end=\"\")\n",
    "\n",
    "    #엔터를 쳐줘 - 가장 일반적\n",
    "    print()"
   ]
  },
  {
   "cell_type": "markdown",
   "id": "1e22d998",
   "metadata": {},
   "source": [
    "### 함수"
   ]
  },
  {
   "cell_type": "code",
   "execution_count": 121,
   "id": "ea81decf",
   "metadata": {},
   "outputs": [
    {
     "name": "stdout",
     "output_type": "stream",
     "text": [
      "구구단 15 단을 출력합니다.\n",
      "15 x 2 = 30\n",
      "15 x 3 = 45\n",
      "15 x 4 = 60\n",
      "15 x 5 = 75\n",
      "15 x 6 = 90\n",
      "15 x 7 = 105\n",
      "15 x 8 = 120\n",
      "15 x 9 = 135\n"
     ]
    }
   ],
   "source": [
    "def printDan(dan):\n",
    "    print(\"구구단\", dan, \"단을 출력합니다.\")\n",
    "    for i in range(2, 10):\n",
    "        print(dan, \"x\", i, \"=\", dan * i)\n",
    "\n",
    "printDan(15)"
   ]
  },
  {
   "cell_type": "code",
   "execution_count": 122,
   "id": "2525aa70",
   "metadata": {},
   "outputs": [],
   "source": [
    "# diy 7\n"
   ]
  },
  {
   "cell_type": "markdown",
   "id": "96d1a6c0",
   "metadata": {},
   "source": [
    "### 람다 함수"
   ]
  },
  {
   "cell_type": "code",
   "execution_count": 123,
   "id": "0eae39ba",
   "metadata": {},
   "outputs": [
    {
     "data": {
      "text/plain": [
       "3"
      ]
     },
     "execution_count": 123,
     "metadata": {},
     "output_type": "execute_result"
    }
   ],
   "source": [
    "(lambda x,y: x+y)(1,2)"
   ]
  },
  {
   "cell_type": "code",
   "execution_count": 124,
   "id": "feca5261",
   "metadata": {},
   "outputs": [
    {
     "data": {
      "text/plain": [
       "[0, 1, 4, 9, 16]"
      ]
     },
     "execution_count": 124,
     "metadata": {},
     "output_type": "execute_result"
    }
   ],
   "source": [
    "list(map(lambda x: x**2, range(5)))"
   ]
  },
  {
   "cell_type": "code",
   "execution_count": 125,
   "id": "587e9cc0",
   "metadata": {},
   "outputs": [
    {
     "data": {
      "text/plain": [
       "[1, 2, 3, 4]"
      ]
     },
     "execution_count": 125,
     "metadata": {},
     "output_type": "execute_result"
    }
   ],
   "source": [
    "a = [1.2, 2.5, 3.7, 4.6]\n",
    "for i in range(len(a)):\n",
    "    a[i] = int(a[i])\n",
    "a"
   ]
  },
  {
   "cell_type": "code",
   "execution_count": 126,
   "id": "7e04578b",
   "metadata": {},
   "outputs": [
    {
     "data": {
      "text/plain": [
       "[1, 2, 3, 4]"
      ]
     },
     "execution_count": 126,
     "metadata": {},
     "output_type": "execute_result"
    }
   ],
   "source": [
    "a = [1.2, 2.5, 3.7, 4.6]\n",
    "a = list(map(int, a))\n",
    "a"
   ]
  },
  {
   "cell_type": "code",
   "execution_count": 127,
   "id": "d7dfa580",
   "metadata": {},
   "outputs": [
    {
     "data": {
      "text/plain": [
       "[0, 1, 2]"
      ]
     },
     "execution_count": 127,
     "metadata": {},
     "output_type": "execute_result"
    }
   ],
   "source": [
    "list(filter(lambda x: x<3, range(5)))"
   ]
  }
 ],
 "metadata": {
  "kernelspec": {
   "display_name": "crawlling_2023-ker",
   "language": "python",
   "name": "crawlling_2023"
  },
  "language_info": {
   "codemirror_mode": {
    "name": "ipython",
    "version": 3
   },
   "file_extension": ".py",
   "mimetype": "text/x-python",
   "name": "python",
   "nbconvert_exporter": "python",
   "pygments_lexer": "ipython3",
   "version": "3.9.15"
  }
 },
 "nbformat": 4,
 "nbformat_minor": 5
}
